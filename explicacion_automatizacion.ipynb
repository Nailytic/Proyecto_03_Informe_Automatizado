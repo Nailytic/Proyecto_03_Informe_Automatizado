{
 "cells": [
  {
   "cell_type": "markdown",
   "id": "e2de0e12",
   "metadata": {},
   "source": [
    "# 📘 Automatización de Informes con Python – Proyecto 03"
   ]
  },
  {
   "cell_type": "markdown",
   "id": "212b4eba",
   "metadata": {},
   "source": [
    "## Objetivo\n",
    "Convertir datos operativos de centros educativos en informes automáticos, visuales y comparativos."
   ]
  },
  {
   "cell_type": "markdown",
   "id": "efb8c9dc",
   "metadata": {},
   "source": [
    "## Dataset\n",
    "Contiene indicadores de marzo y abril por centro (asistencia, satisfacción, finalización, incidencias)."
   ]
  },
  {
   "cell_type": "markdown",
   "id": "baca3990",
   "metadata": {},
   "source": [
    "## Proceso Automatizado\n",
    "- Cálculo de diferencias\n",
    "- Visualizaciones con matplotlib/seaborn\n",
    "- Render HTML con Jinja2\n",
    "- Export a PDF con pdfkit\n",
    "- Export a Excel con pandas"
   ]
  },
  {
   "cell_type": "markdown",
   "id": "f4432543",
   "metadata": {},
   "source": [
    "## Archivos Generados\n",
    "- Informe PDF: `informe_mensual_abril.pdf`\n",
    "- Informe Excel: `informe_excel.xlsx`"
   ]
  },
  {
   "cell_type": "markdown",
   "id": "0140e706",
   "metadata": {},
   "source": [
    "## Conclusión\n",
    "Automatizar reportes ahorra tiempo, minimiza errores y mejora la presentación de resultados para toma de decisiones."
   ]
  }
 ],
 "metadata": {
  "kernelspec": {
   "display_name": "Python 3",
   "language": "python",
   "name": "python3"
  },
  "language_info": {
   "name": "python",
   "version": "3.9"
  }
 },
 "nbformat": 4,
 "nbformat_minor": 5
}
